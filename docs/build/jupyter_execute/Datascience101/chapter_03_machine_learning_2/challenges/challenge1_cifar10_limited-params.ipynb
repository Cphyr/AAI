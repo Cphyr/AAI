{
 "cells": [
  {
   "cell_type": "markdown",
   "metadata": {},
   "source": [
    "In the following challenge, you are given the of building and training a classifier on CIFAR-10 dataset with limited resources.\n",
    "\n",
    "The dataset consists of 60,000 32x32 color images in 10 classes, with 6,000 images per class. The classes are completely mutually exclusive. There are 50,000 training images and 10,000 test images.\n",
    "\n",
    "Your objective is achieve at least 80% accuracy on the test set.\n",
    "\n",
    "Constraints:\n",
    "* You are only allowed to use up-to 50k trainable parameters.\n",
    "* You are not allowed to use any pre-trained models (but you may use famous architectures like VGG, ResNet, etc. as a reference for your own model)."
   ]
  }
 ],
 "metadata": {
  "language_info": {
   "name": "python"
  }
 },
 "nbformat": 4,
 "nbformat_minor": 2
}